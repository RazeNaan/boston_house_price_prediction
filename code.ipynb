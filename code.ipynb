{
 "cells": [
  {
   "cell_type": "code",
   "execution_count": 1,
   "metadata": {},
   "outputs": [],
   "source": [
    "import pandas as pd\n",
    "import numpy as np\n",
    "from sklearn import preprocessing\n",
    "import matplotlib.pyplot as plt\n",
    "import seaborn as sns\n",
    "from sklearn import preprocessing\n",
    "import random\n",
    "from xgboost import XGBClassifier\n",
    "from sklearn import metrics\n",
    "from sklearn.preprocessing import OneHotEncoder\n",
    "from sklearn.linear_model import LinearRegression\n",
    "from sklearn.ensemble import RandomForestRegressor\n",
    "from sklearn import svm\n",
    "from sklearn.preprocessing import StandardScaler"
   ]
  },
  {
   "cell_type": "code",
   "execution_count": 2,
   "metadata": {},
   "outputs": [],
   "source": [
    "train_df = pd.read_csv(\"train.csv\")\n",
    "x_train = train_df.drop([\"SalePrice\"], axis = 1)\n",
    "y_train = train_df[\"SalePrice\"]\n",
    "x_test = pd.read_csv('test_toup.csv')\n",
    "\n",
    "answer_df = pd.read_csv(\"samples submission.csv\")"
   ]
  },
  {
   "cell_type": "code",
   "execution_count": 3,
   "metadata": {},
   "outputs": [
    {
     "data": {
      "text/plain": [
       "array([208500, 181500, 223500, 140000, 250000, 143000, 307000, 200000,\n",
       "       129900, 118000, 129500, 345000, 144000, 279500, 157000, 132000,\n",
       "       149000,  90000, 159000, 139000, 325300, 139400, 230000, 129900,\n",
       "       154000, 256300, 134800, 306000, 207500,  68500,  40000, 149350,\n",
       "       179900, 165500, 277500, 309000, 145000, 153000, 109000,  82000,\n",
       "       160000, 170000, 144000, 130250, 141000, 319900, 239686, 249700,\n",
       "       113000, 127000, 177000, 114500, 110000, 385000, 130000, 180500,\n",
       "       172500, 196500, 438780, 124900, 158000, 101000, 202500, 140000,\n",
       "       219500, 317000, 180000, 226000,  80000, 225000, 244000, 129500,\n",
       "       185000, 144900, 107400,  91000, 135750, 127000, 136500, 110000,\n",
       "       193500, 153500, 245000, 126500, 168500, 260000, 174000, 164500,\n",
       "        85000, 123600, 109900,  98600, 163500, 133900, 204750, 185000,\n",
       "       214000,  94750,  83000, 128950, 205000, 178000, 118964, 198900,\n",
       "       169500, 250000, 100000, 115000, 115000, 190000, 136900, 180000,\n",
       "       383970, 217000, 259500, 176000, 139000, 155000, 320000, 163990,\n",
       "       180000, 100000, 136000, 153900, 181000,  84500, 128000,  87000,\n",
       "       155000, 150000, 226000, 244000, 150750, 220000, 180000, 174000,\n",
       "       143000, 171000, 230000])"
      ]
     },
     "execution_count": 3,
     "metadata": {},
     "output_type": "execute_result"
    }
   ],
   "source": [
    "y_true = np.array(answer_df[\"SalePrice\"])\n",
    "y_true"
   ]
  },
  {
   "cell_type": "code",
   "execution_count": 4,
   "metadata": {},
   "outputs": [
    {
     "data": {
      "text/plain": [
       "(1321, 80)"
      ]
     },
     "execution_count": 4,
     "metadata": {},
     "output_type": "execute_result"
    }
   ],
   "source": [
    "x_train.shape"
   ]
  },
  {
   "cell_type": "code",
   "execution_count": 5,
   "metadata": {},
   "outputs": [],
   "source": [
    "x_train[\"type\"] = \"train\"\n",
    "x_test[\"type\"] = \"test\""
   ]
  },
  {
   "cell_type": "code",
   "execution_count": 6,
   "metadata": {},
   "outputs": [
    {
     "name": "stdout",
     "output_type": "stream",
     "text": [
      "(1321, 81)\n",
      "(139, 81)\n",
      "(1460, 81)\n"
     ]
    }
   ],
   "source": [
    "x_whole = pd.concat([x_train, x_test], axis = 0, ignore_index=True)\n",
    "print(x_train.shape)\n",
    "print(x_test.shape)\n",
    "print(x_whole.shape)"
   ]
  },
  {
   "cell_type": "code",
   "execution_count": 7,
   "metadata": {},
   "outputs": [
    {
     "data": {
      "text/plain": [
       "array(['MSZoning', 'Street', 'Alley', 'LotShape', 'LandContour',\n",
       "       'Utilities', 'LotConfig', 'LandSlope', 'Neighborhood',\n",
       "       'Condition1', 'Condition2', 'BldgType', 'HouseStyle', 'RoofStyle',\n",
       "       'RoofMatl', 'Exterior1st', 'Exterior2nd', 'MasVnrType',\n",
       "       'ExterQual', 'ExterCond', 'Foundation', 'BsmtQual', 'BsmtCond',\n",
       "       'BsmtExposure', 'BsmtFinType1', 'BsmtFinType2', 'Heating',\n",
       "       'HeatingQC', 'CentralAir', 'Electrical', 'KitchenQual',\n",
       "       'Functional', 'FireplaceQu', 'GarageType', 'GarageFinish',\n",
       "       'GarageQual', 'GarageCond', 'PavedDrive', 'PoolQC', 'Fence',\n",
       "       'MiscFeature', 'SaleType', 'SaleCondition', 'type'], dtype='<U13')"
      ]
     },
     "execution_count": 7,
     "metadata": {},
     "output_type": "execute_result"
    }
   ],
   "source": [
    "object_dtype = []\n",
    "\n",
    "for i in x_whole.columns:\n",
    "    if x_whole[i].dtype == 'object':\n",
    "        object_dtype.append(i)\n",
    "        \n",
    "np.array(object_dtype)"
   ]
  },
  {
   "cell_type": "code",
   "execution_count": 8,
   "metadata": {},
   "outputs": [
    {
     "data": {
      "text/plain": [
       "array(['None', 'BrkFace', 'Stone', 'BrkCmn', nan], dtype=object)"
      ]
     },
     "execution_count": 8,
     "metadata": {},
     "output_type": "execute_result"
    }
   ],
   "source": [
    "x_whole['MasVnrType'].unique()"
   ]
  },
  {
   "cell_type": "code",
   "execution_count": 9,
   "metadata": {},
   "outputs": [],
   "source": [
    "valid_na_columns = ['Alley', 'MasVnrType', 'BsmtQual', 'BsmtCond', 'BsmtExposure', 'BsmtFinType1', 'BsmtFinType2', 'FireplaceQu', 'GarageType', 'GarageFinish', 'GarageQual', 'GarageCond', 'PoolQC', 'Fence', 'MiscFeature']"
   ]
  },
  {
   "cell_type": "code",
   "execution_count": 10,
   "metadata": {},
   "outputs": [],
   "source": [
    "num_but_obj_columns = ['MSSubClass', 'OverallQual', 'OverallCond', 'YearBuilt', 'YearRemodAdd', 'BsmtFullBath', 'BsmtHalfBath', 'FullBath', 'HalfBath', 'BedroomAbvGr', 'KitchenAbvGr', 'TotRmsAbvGrd','GarageCars', 'Fireplaces', 'GarageYrBlt', 'MoSold', 'YrSold']"
   ]
  },
  {
   "cell_type": "code",
   "execution_count": 11,
   "metadata": {
    "scrolled": true
   },
   "outputs": [
    {
     "data": {
      "text/plain": [
       "['Id',\n",
       " 'LotFrontage',\n",
       " 'LotArea',\n",
       " 'MasVnrArea',\n",
       " 'BsmtFinSF1',\n",
       " 'BsmtFinSF2',\n",
       " 'BsmtUnfSF',\n",
       " 'TotalBsmtSF',\n",
       " '1stFlrSF',\n",
       " '2ndFlrSF',\n",
       " 'LowQualFinSF',\n",
       " 'GrLivArea',\n",
       " 'GarageArea',\n",
       " 'WoodDeckSF',\n",
       " 'OpenPorchSF',\n",
       " 'EnclosedPorch',\n",
       " '3SsnPorch',\n",
       " 'ScreenPorch',\n",
       " 'PoolArea',\n",
       " 'MiscVal']"
      ]
     },
     "execution_count": 11,
     "metadata": {},
     "output_type": "execute_result"
    }
   ],
   "source": [
    "#for int and float columns\n",
    "meanable_cols = []\n",
    "\n",
    "\n",
    "for i in x_whole.columns:\n",
    "    if i not in num_but_obj_columns:\n",
    "        if x_whole[i].dtypes == 'int' or x_whole[i].dtypes == 'float':\n",
    "            meanable_cols.append(i)\n",
    "            \n",
    "meanable_cols"
   ]
  },
  {
   "cell_type": "code",
   "execution_count": 12,
   "metadata": {},
   "outputs": [],
   "source": [
    "#384 - year sold\n",
    "#809 - bsmt\n",
    "x_whole.drop([809, 384], axis = 0, inplace=True)\n",
    "y_train.drop([384, 809], axis = 0, inplace = True)\n",
    "x_whole.reset_index(inplace=True)"
   ]
  },
  {
   "cell_type": "code",
   "execution_count": 13,
   "metadata": {
    "scrolled": false
   },
   "outputs": [
    {
     "name": "stdout",
     "output_type": "stream",
     "text": [
      "index\n",
      "MSSubClass\n",
      "MSZoning\n",
      "Street\n",
      "Alley\n",
      "LotShape\n",
      "LandContour\n",
      "Utilities\n",
      "LotConfig\n",
      "LandSlope\n",
      "Neighborhood\n",
      "Condition1\n",
      "Condition2\n",
      "BldgType\n",
      "HouseStyle\n",
      "OverallQual\n",
      "OverallCond\n",
      "YearBuilt\n",
      "YearRemodAdd\n",
      "RoofStyle\n",
      "RoofMatl\n",
      "Exterior1st\n",
      "Exterior2nd\n",
      "MasVnrType\n",
      "ExterQual\n",
      "ExterCond\n",
      "Foundation\n",
      "BsmtQual\n",
      "BsmtCond\n",
      "BsmtExposure\n",
      "BsmtFinType1\n",
      "BsmtFinType2\n",
      "Heating\n",
      "HeatingQC\n",
      "CentralAir\n",
      "Electrical\n",
      "BsmtFullBath\n",
      "BsmtHalfBath\n",
      "FullBath\n"
     ]
    },
    {
     "name": "stderr",
     "output_type": "stream",
     "text": [
      "/home/rohan/.local/lib/python3.6/site-packages/ipykernel_launcher.py:15: SettingWithCopyWarning: \n",
      "A value is trying to be set on a copy of a slice from a DataFrame\n",
      "\n",
      "See the caveats in the documentation: http://pandas.pydata.org/pandas-docs/stable/user_guide/indexing.html#returning-a-view-versus-a-copy\n",
      "  from ipykernel import kernelapp as app\n"
     ]
    },
    {
     "name": "stdout",
     "output_type": "stream",
     "text": [
      "HalfBath\n",
      "BedroomAbvGr\n",
      "KitchenAbvGr\n",
      "KitchenQual\n",
      "TotRmsAbvGrd\n",
      "Functional\n",
      "Fireplaces\n",
      "FireplaceQu\n",
      "GarageType\n",
      "GarageYrBlt\n",
      "GarageFinish\n",
      "GarageCars\n",
      "GarageQual\n",
      "GarageCond\n",
      "PavedDrive\n",
      "PoolQC\n",
      "Fence\n",
      "MiscFeature\n",
      "MoSold\n",
      "YrSold\n",
      "SaleType\n",
      "SaleCondition\n",
      "type\n"
     ]
    }
   ],
   "source": [
    "le = preprocessing.LabelEncoder()\n",
    "ohe = OneHotEncoder() \n",
    "for i in x_whole.columns:\n",
    "    if i not in valid_na_columns:\n",
    "        if i in meanable_cols:\n",
    "            x_whole[i].fillna(-1, inplace = True)\n",
    "            for j in range(len(train_df[i])):\n",
    "                if train_df[i][j] < 0:\n",
    "                    x_whole[i][j] = random.choice([x_whole[i].mean() - x_whole[i].std(), x_whole[i].mean() + x_whole[i].std()])\n",
    "        else:\n",
    "            print(i)\n",
    "            x_whole[i].fillna(\"None\", inplace = True)\n",
    "            for j in range(len(x_whole[i])):\n",
    "                if x_whole[i][j] == \"None\":\n",
    "                    x_whole[i][j] = random.choice(x_whole[i].dropna().unique())\n",
    "            if i in object_dtype:\n",
    "                x_whole[i] = le.fit_transform(x_whole[i])\n",
    "                \n",
    "    else:\n",
    "        print(i)\n",
    "        x_whole[i].fillna('NaN', inplace=True)\n",
    "        x_whole[i] = le.fit_transform(x_whole[i])"
   ]
  },
  {
   "cell_type": "code",
   "execution_count": 14,
   "metadata": {},
   "outputs": [
    {
     "data": {
      "text/plain": [
       "array([1997.0, 1934.0, 2005.0, 2000.0, 1999.0, 1963.0, 2004.0, 1931.0,\n",
       "       2001.0, 1958.0, 1936.0, 1975.0, 2007.0, 1971.0, 1960.0, 1923.0,\n",
       "       1933.0, 1950.0, 2009.0, 2006.0, 1984.0, 2003.0, 1945.0, 1926.0,\n",
       "       1976.0, 1955.0, 1981.0, 1991.0, 1987.0, 1961.0, 1986.0, 1988.0,\n",
       "       1935.0, 1920.0, 1957.0, 1993.0, 1990.0, 1916.0, 1979.0, 1932.0,\n",
       "       1972.0, 1989.0, 1918.0, 1980.0, 1924.0, 1948.0, 1962.0, 1964.0,\n",
       "       1922.0, 1996.0, 1977.0, 1940.0, 1939.0, 2002.0, 1995.0, 1974.0,\n",
       "       1959.0, 1949.0, 2008.0, 1994.0, 1910.0, 1954.0, 1956.0, 1978.0,\n",
       "       1965.0, 1966.0, 1982.0, 1951.0, 1992.0, 1983.0, 1970.0, 1953.0,\n",
       "       1968.0, 1998.0, 1925.0, 1941.0, 1930.0, 1985.0, 2010.0, 1927.0,\n",
       "       1947.0, 1908.0, 1915.0, 1937.0, 1973.0, 1942.0, 1938.0, 1900.0,\n",
       "       1967.0, 1952.0, 1928.0, 1969.0, 1906.0, 1921.0, 1914.0, 1946.0,\n",
       "       1929.0], dtype=object)"
      ]
     },
     "execution_count": 14,
     "metadata": {},
     "output_type": "execute_result"
    }
   ],
   "source": [
    "x_whole['GarageYrBlt'].unique()"
   ]
  },
  {
   "cell_type": "code",
   "execution_count": 15,
   "metadata": {
    "scrolled": true
   },
   "outputs": [
    {
     "data": {
      "text/plain": [
       "array([1997., 1934., 2005., 2000., 1999., 1963., 2004., 1931., 2001.,\n",
       "       1958., 1936., 1975., 2007., 1971., 1960., 1923., 1933., 1950.,\n",
       "       2009., 2006., 1984., 2003., 1945., 1926., 1976., 1955., 1981.,\n",
       "       1991., 1987., 1961., 1986., 1988., 1935., 1920., 1957., 1993.,\n",
       "       1990., 1916., 1979., 1932., 1972., 1989., 1918., 1980., 1924.,\n",
       "       1948., 1962., 1964., 1922., 1996., 1977., 1940., 1939., 2002.,\n",
       "       1995., 1974., 1959., 1949., 2008., 1994., 1910., 1954., 1956.,\n",
       "       1978., 1965., 1966., 1982., 1951., 1992., 1983., 1970., 1953.,\n",
       "       1968., 1998., 1925., 1941., 1930., 1985., 2010., 1927., 1947.,\n",
       "       1908., 1915., 1937., 1973., 1942., 1938., 1900., 1967., 1952.,\n",
       "       1928., 1969., 1906., 1921., 1914., 1946., 1929.])"
      ]
     },
     "execution_count": 15,
     "metadata": {},
     "output_type": "execute_result"
    }
   ],
   "source": [
    "x_whole['GarageYrBlt'] = x_whole['GarageYrBlt'].astype(float)\n",
    "x_whole['GarageYrBlt'].unique()"
   ]
  },
  {
   "cell_type": "code",
   "execution_count": 16,
   "metadata": {},
   "outputs": [
    {
     "data": {
      "text/plain": [
       "array(['train', 'train', 'train', ..., 'test', 'test', 'test'],\n",
       "      dtype=object)"
      ]
     },
     "execution_count": 16,
     "metadata": {},
     "output_type": "execute_result"
    }
   ],
   "source": [
    "le.inverse_transform(x_whole[\"type\"])"
   ]
  },
  {
   "cell_type": "code",
   "execution_count": 17,
   "metadata": {},
   "outputs": [],
   "source": [
    "x_whole.drop(\"LotFrontage\", axis = 1, inplace = True)\n"
   ]
  },
  {
   "cell_type": "code",
   "execution_count": 18,
   "metadata": {},
   "outputs": [],
   "source": [
    "x_whole[\"new_col_overall\"] = x_whole[\"OverallCond\"] + x_whole[\"OverallQual\"]\n",
    "x_whole[\"new_col_bsmt\"] = x_whole[\"OverallCond\"] + x_whole[\"OverallQual\"]\n",
    "x_whole.drop([\"Condition2\", \"Exterior2nd\"], axis=1, inplace=True)\n",
    "\n",
    "\n"
   ]
  },
  {
   "cell_type": "code",
   "execution_count": null,
   "metadata": {},
   "outputs": [],
   "source": []
  },
  {
   "cell_type": "code",
   "execution_count": null,
   "metadata": {},
   "outputs": [],
   "source": []
  },
  {
   "cell_type": "code",
   "execution_count": 19,
   "metadata": {},
   "outputs": [
    {
     "name": "stdout",
     "output_type": "stream",
     "text": [
      "(1319, 81)\n",
      "(139, 81)\n"
     ]
    },
    {
     "name": "stderr",
     "output_type": "stream",
     "text": [
      "/home/rohan/.local/lib/python3.6/site-packages/pandas/core/frame.py:4102: SettingWithCopyWarning: \n",
      "A value is trying to be set on a copy of a slice from a DataFrame\n",
      "\n",
      "See the caveats in the documentation: http://pandas.pydata.org/pandas-docs/stable/user_guide/indexing.html#returning-a-view-versus-a-copy\n",
      "  errors=errors,\n"
     ]
    }
   ],
   "source": [
    "x_train = x_whole[x_whole[\"type\"] == 1]\n",
    "x_test = x_whole[x_whole[\"type\"] == 0]\n",
    "print(x_train.shape)\n",
    "print(x_test.shape)\n",
    "x_train.drop(\"type\", axis = 1, inplace=True)\n",
    "x_test.drop(\"type\", axis = 1, inplace = True)"
   ]
  },
  {
   "cell_type": "code",
   "execution_count": null,
   "metadata": {},
   "outputs": [],
   "source": []
  },
  {
   "cell_type": "code",
   "execution_count": 20,
   "metadata": {},
   "outputs": [],
   "source": [
    "for i in range(len(x_whole)):\n",
    "    if(x_whole[\"YearBuilt\"][i] > x_whole[\"YrSold\"][i] or x_whole[\"YrSold\"][i] < x_whole[\"YearRemodAdd\"][i]):\n",
    "        print(i)"
   ]
  },
  {
   "cell_type": "code",
   "execution_count": 21,
   "metadata": {},
   "outputs": [],
   "source": [
    "# model = XGBClassifier()"
   ]
  },
  {
   "cell_type": "code",
   "execution_count": 22,
   "metadata": {},
   "outputs": [],
   "source": [
    "# model.fit(x_train, y_train)"
   ]
  },
  {
   "cell_type": "code",
   "execution_count": 23,
   "metadata": {},
   "outputs": [
    {
     "data": {
      "text/plain": [
       "LinearRegression(copy_X=True, fit_intercept=True, n_jobs=None, normalize=False)"
      ]
     },
     "execution_count": 23,
     "metadata": {},
     "output_type": "execute_result"
    }
   ],
   "source": [
    "model = LinearRegression()\n",
    "model.fit(x_train,y_train)"
   ]
  },
  {
   "cell_type": "code",
   "execution_count": 24,
   "metadata": {},
   "outputs": [],
   "source": [
    "y_pred = model.predict(x_test)"
   ]
  },
  {
   "cell_type": "code",
   "execution_count": 25,
   "metadata": {
    "scrolled": true
   },
   "outputs": [
    {
     "data": {
      "text/plain": [
       "array([213599.2617764 , 198246.57435135, 216047.39725615, 173276.30065321,\n",
       "       286939.75368183, 167020.16238809, 286249.50391371, 245498.38397993,\n",
       "       148989.40530237,  90781.83342456, 123940.45433175, 381680.71620899,\n",
       "       137190.42120915, 251279.22962478, 155483.09693855, 127127.34121947,\n",
       "       145960.13752735,  98183.29990536, 149581.4874461 , 109523.7351243 ,\n",
       "       308920.8441758 , 120855.70774847, 242235.87414024, 131117.06730862,\n",
       "       151184.31743295, 261441.68743037, 127669.92389654, 276862.65589309,\n",
       "       193180.03311421,  81001.69089864,  90960.99552503, 126563.64766875,\n",
       "       211908.93365335, 174860.43620371, 293605.62937305, 309134.9485686 ,\n",
       "       127777.612227  , 160117.40521876, 114616.6145416 ,  82674.51858358,\n",
       "       134788.95957297, 152606.55949682, 163991.20527205, 134961.42636616,\n",
       "       131102.74403998, 299434.29609295, 271382.39144301, 249998.14329698,\n",
       "        49804.165784  , 125604.23707954, 179980.15175065, 106567.55022993,\n",
       "        92431.5177217 , 362035.5804243 , 102915.67368484, 179742.84667453,\n",
       "       223944.24188271, 198514.61021255, 419371.33719631, 119326.51034125,\n",
       "       176376.92942763,  97326.25180335, 213182.24541798, 162005.82100203,\n",
       "       249327.90621615, 298895.08418301, 241749.04415629, 231280.33821656,\n",
       "        64026.50725429, 218370.31177724, 327196.6010698 , 115956.67945464,\n",
       "       188460.709319  , 122745.48406462, 101243.78257748,  89670.67619011,\n",
       "       102299.60315698,  99653.93552235, 112782.91757832, 100929.97359951,\n",
       "       220515.16083204, 182650.35484371, 248774.27085504, 113632.8361241 ,\n",
       "       162746.81496432, 263784.58226211, 200784.63757837, 171081.99779591,\n",
       "        79169.09077144, 108036.48585576, 109457.00349078, 114117.41028544,\n",
       "       124977.45550717, 179680.95041194, 193401.44186647, 198089.79238041,\n",
       "       232277.96423225,  96676.15550522,  66175.18611031, 117790.71747635,\n",
       "       209011.73789765, 200702.84021387, 108245.52073002, 178465.71326926,\n",
       "       179905.71610573, 279348.86758714,  96707.53478995,  86559.20285224,\n",
       "       137933.10120816, 224294.01843872, 145253.53788888, 171971.40285821,\n",
       "       355937.27058625, 236754.05885867, 226173.61804556, 201879.47829621,\n",
       "       101212.11861453, 133806.11258261, 328825.20729434, 188251.28968088,\n",
       "       158710.54902495,  85645.47449454, 132962.60400053, 156493.97995734,\n",
       "       173397.01959957,  90521.63605634, 122702.64260538,  75037.90285866,\n",
       "       149023.12352188, 132131.41396578, 229627.7671153 , 216713.10562281,\n",
       "       151242.05548904, 233549.69664236, 158339.29592845, 197155.44448789,\n",
       "       131179.37554265, 166079.63731513, 259967.91150435])"
      ]
     },
     "execution_count": 25,
     "metadata": {},
     "output_type": "execute_result"
    }
   ],
   "source": [
    "y_pred"
   ]
  },
  {
   "cell_type": "code",
   "execution_count": 26,
   "metadata": {},
   "outputs": [],
   "source": [
    "df_out = pd.DataFrame(y_pred)"
   ]
  },
  {
   "cell_type": "code",
   "execution_count": 27,
   "metadata": {},
   "outputs": [
    {
     "data": {
      "text/html": [
       "<div>\n",
       "<style scoped>\n",
       "    .dataframe tbody tr th:only-of-type {\n",
       "        vertical-align: middle;\n",
       "    }\n",
       "\n",
       "    .dataframe tbody tr th {\n",
       "        vertical-align: top;\n",
       "    }\n",
       "\n",
       "    .dataframe thead th {\n",
       "        text-align: right;\n",
       "    }\n",
       "</style>\n",
       "<table border=\"1\" class=\"dataframe\">\n",
       "  <thead>\n",
       "    <tr style=\"text-align: right;\">\n",
       "      <th></th>\n",
       "      <th>0</th>\n",
       "    </tr>\n",
       "  </thead>\n",
       "  <tbody>\n",
       "    <tr>\n",
       "      <td>0</td>\n",
       "      <td>213599.261776</td>\n",
       "    </tr>\n",
       "    <tr>\n",
       "      <td>1</td>\n",
       "      <td>198246.574351</td>\n",
       "    </tr>\n",
       "    <tr>\n",
       "      <td>2</td>\n",
       "      <td>216047.397256</td>\n",
       "    </tr>\n",
       "    <tr>\n",
       "      <td>3</td>\n",
       "      <td>173276.300653</td>\n",
       "    </tr>\n",
       "    <tr>\n",
       "      <td>4</td>\n",
       "      <td>286939.753682</td>\n",
       "    </tr>\n",
       "    <tr>\n",
       "      <td>...</td>\n",
       "      <td>...</td>\n",
       "    </tr>\n",
       "    <tr>\n",
       "      <td>134</td>\n",
       "      <td>158339.295928</td>\n",
       "    </tr>\n",
       "    <tr>\n",
       "      <td>135</td>\n",
       "      <td>197155.444488</td>\n",
       "    </tr>\n",
       "    <tr>\n",
       "      <td>136</td>\n",
       "      <td>131179.375543</td>\n",
       "    </tr>\n",
       "    <tr>\n",
       "      <td>137</td>\n",
       "      <td>166079.637315</td>\n",
       "    </tr>\n",
       "    <tr>\n",
       "      <td>138</td>\n",
       "      <td>259967.911504</td>\n",
       "    </tr>\n",
       "  </tbody>\n",
       "</table>\n",
       "<p>139 rows × 1 columns</p>\n",
       "</div>"
      ],
      "text/plain": [
       "                 0\n",
       "0    213599.261776\n",
       "1    198246.574351\n",
       "2    216047.397256\n",
       "3    173276.300653\n",
       "4    286939.753682\n",
       "..             ...\n",
       "134  158339.295928\n",
       "135  197155.444488\n",
       "136  131179.375543\n",
       "137  166079.637315\n",
       "138  259967.911504\n",
       "\n",
       "[139 rows x 1 columns]"
      ]
     },
     "execution_count": 27,
     "metadata": {},
     "output_type": "execute_result"
    }
   ],
   "source": [
    "df_out\n"
   ]
  },
  {
   "cell_type": "code",
   "execution_count": 28,
   "metadata": {},
   "outputs": [],
   "source": [
    "df_out.columns = [\"SalePrice\"]"
   ]
  },
  {
   "cell_type": "code",
   "execution_count": 29,
   "metadata": {},
   "outputs": [],
   "source": [
    "df_out[\"Id\"] = df_out.index"
   ]
  },
  {
   "cell_type": "code",
   "execution_count": 30,
   "metadata": {},
   "outputs": [],
   "source": [
    "df_out = df_out[[\"Id\", \"SalePrice\"]]"
   ]
  },
  {
   "cell_type": "code",
   "execution_count": 31,
   "metadata": {},
   "outputs": [
    {
     "data": {
      "text/html": [
       "<div>\n",
       "<style scoped>\n",
       "    .dataframe tbody tr th:only-of-type {\n",
       "        vertical-align: middle;\n",
       "    }\n",
       "\n",
       "    .dataframe tbody tr th {\n",
       "        vertical-align: top;\n",
       "    }\n",
       "\n",
       "    .dataframe thead th {\n",
       "        text-align: right;\n",
       "    }\n",
       "</style>\n",
       "<table border=\"1\" class=\"dataframe\">\n",
       "  <thead>\n",
       "    <tr style=\"text-align: right;\">\n",
       "      <th></th>\n",
       "      <th>Id</th>\n",
       "      <th>SalePrice</th>\n",
       "    </tr>\n",
       "  </thead>\n",
       "  <tbody>\n",
       "    <tr>\n",
       "      <td>0</td>\n",
       "      <td>0</td>\n",
       "      <td>213599.261776</td>\n",
       "    </tr>\n",
       "    <tr>\n",
       "      <td>1</td>\n",
       "      <td>1</td>\n",
       "      <td>198246.574351</td>\n",
       "    </tr>\n",
       "    <tr>\n",
       "      <td>2</td>\n",
       "      <td>2</td>\n",
       "      <td>216047.397256</td>\n",
       "    </tr>\n",
       "    <tr>\n",
       "      <td>3</td>\n",
       "      <td>3</td>\n",
       "      <td>173276.300653</td>\n",
       "    </tr>\n",
       "    <tr>\n",
       "      <td>4</td>\n",
       "      <td>4</td>\n",
       "      <td>286939.753682</td>\n",
       "    </tr>\n",
       "    <tr>\n",
       "      <td>...</td>\n",
       "      <td>...</td>\n",
       "      <td>...</td>\n",
       "    </tr>\n",
       "    <tr>\n",
       "      <td>134</td>\n",
       "      <td>134</td>\n",
       "      <td>158339.295928</td>\n",
       "    </tr>\n",
       "    <tr>\n",
       "      <td>135</td>\n",
       "      <td>135</td>\n",
       "      <td>197155.444488</td>\n",
       "    </tr>\n",
       "    <tr>\n",
       "      <td>136</td>\n",
       "      <td>136</td>\n",
       "      <td>131179.375543</td>\n",
       "    </tr>\n",
       "    <tr>\n",
       "      <td>137</td>\n",
       "      <td>137</td>\n",
       "      <td>166079.637315</td>\n",
       "    </tr>\n",
       "    <tr>\n",
       "      <td>138</td>\n",
       "      <td>138</td>\n",
       "      <td>259967.911504</td>\n",
       "    </tr>\n",
       "  </tbody>\n",
       "</table>\n",
       "<p>139 rows × 2 columns</p>\n",
       "</div>"
      ],
      "text/plain": [
       "      Id      SalePrice\n",
       "0      0  213599.261776\n",
       "1      1  198246.574351\n",
       "2      2  216047.397256\n",
       "3      3  173276.300653\n",
       "4      4  286939.753682\n",
       "..   ...            ...\n",
       "134  134  158339.295928\n",
       "135  135  197155.444488\n",
       "136  136  131179.375543\n",
       "137  137  166079.637315\n",
       "138  138  259967.911504\n",
       "\n",
       "[139 rows x 2 columns]"
      ]
     },
     "execution_count": 31,
     "metadata": {},
     "output_type": "execute_result"
    }
   ],
   "source": [
    "df_out\n"
   ]
  },
  {
   "cell_type": "code",
   "execution_count": 32,
   "metadata": {},
   "outputs": [],
   "source": [
    "df_out[\"Id\"] = range(1, 140)\n",
    "df_out[\"SalePrice\"] = df_out[\"SalePrice\"].astype(int)"
   ]
  },
  {
   "cell_type": "code",
   "execution_count": 33,
   "metadata": {},
   "outputs": [
    {
     "data": {
      "text/html": [
       "<div>\n",
       "<style scoped>\n",
       "    .dataframe tbody tr th:only-of-type {\n",
       "        vertical-align: middle;\n",
       "    }\n",
       "\n",
       "    .dataframe tbody tr th {\n",
       "        vertical-align: top;\n",
       "    }\n",
       "\n",
       "    .dataframe thead th {\n",
       "        text-align: right;\n",
       "    }\n",
       "</style>\n",
       "<table border=\"1\" class=\"dataframe\">\n",
       "  <thead>\n",
       "    <tr style=\"text-align: right;\">\n",
       "      <th></th>\n",
       "      <th>SalePrice</th>\n",
       "    </tr>\n",
       "    <tr>\n",
       "      <th>Id</th>\n",
       "      <th></th>\n",
       "    </tr>\n",
       "  </thead>\n",
       "  <tbody>\n",
       "    <tr>\n",
       "      <td>1</td>\n",
       "      <td>213599</td>\n",
       "    </tr>\n",
       "    <tr>\n",
       "      <td>2</td>\n",
       "      <td>198246</td>\n",
       "    </tr>\n",
       "    <tr>\n",
       "      <td>3</td>\n",
       "      <td>216047</td>\n",
       "    </tr>\n",
       "    <tr>\n",
       "      <td>4</td>\n",
       "      <td>173276</td>\n",
       "    </tr>\n",
       "    <tr>\n",
       "      <td>5</td>\n",
       "      <td>286939</td>\n",
       "    </tr>\n",
       "    <tr>\n",
       "      <td>...</td>\n",
       "      <td>...</td>\n",
       "    </tr>\n",
       "    <tr>\n",
       "      <td>135</td>\n",
       "      <td>158339</td>\n",
       "    </tr>\n",
       "    <tr>\n",
       "      <td>136</td>\n",
       "      <td>197155</td>\n",
       "    </tr>\n",
       "    <tr>\n",
       "      <td>137</td>\n",
       "      <td>131179</td>\n",
       "    </tr>\n",
       "    <tr>\n",
       "      <td>138</td>\n",
       "      <td>166079</td>\n",
       "    </tr>\n",
       "    <tr>\n",
       "      <td>139</td>\n",
       "      <td>259967</td>\n",
       "    </tr>\n",
       "  </tbody>\n",
       "</table>\n",
       "<p>139 rows × 1 columns</p>\n",
       "</div>"
      ],
      "text/plain": [
       "     SalePrice\n",
       "Id            \n",
       "1       213599\n",
       "2       198246\n",
       "3       216047\n",
       "4       173276\n",
       "5       286939\n",
       "..         ...\n",
       "135     158339\n",
       "136     197155\n",
       "137     131179\n",
       "138     166079\n",
       "139     259967\n",
       "\n",
       "[139 rows x 1 columns]"
      ]
     },
     "execution_count": 33,
     "metadata": {},
     "output_type": "execute_result"
    }
   ],
   "source": [
    "df_out.set_index(\"Id\")"
   ]
  },
  {
   "cell_type": "code",
   "execution_count": 34,
   "metadata": {},
   "outputs": [],
   "source": [
    "df_out.to_csv(\"ouput.csv\", index = False)"
   ]
  },
  {
   "cell_type": "code",
   "execution_count": 35,
   "metadata": {},
   "outputs": [
    {
     "name": "stdout",
     "output_type": "stream",
     "text": [
      "22031.580835426077\n"
     ]
    }
   ],
   "source": [
    "print(np.sqrt(metrics.mean_squared_error(y_true, df_out[\"SalePrice\"])))"
   ]
  },
  {
   "cell_type": "code",
   "execution_count": null,
   "metadata": {},
   "outputs": [],
   "source": []
  },
  {
   "cell_type": "code",
   "execution_count": null,
   "metadata": {},
   "outputs": [],
   "source": []
  },
  {
   "cell_type": "code",
   "execution_count": null,
   "metadata": {},
   "outputs": [],
   "source": []
  },
  {
   "cell_type": "code",
   "execution_count": null,
   "metadata": {},
   "outputs": [],
   "source": []
  },
  {
   "cell_type": "code",
   "execution_count": null,
   "metadata": {},
   "outputs": [],
   "source": []
  },
  {
   "cell_type": "code",
   "execution_count": null,
   "metadata": {},
   "outputs": [],
   "source": []
  },
  {
   "cell_type": "code",
   "execution_count": null,
   "metadata": {},
   "outputs": [],
   "source": []
  }
 ],
 "metadata": {
  "kernelspec": {
   "display_name": "Python 3",
   "language": "python",
   "name": "python3"
  },
  "language_info": {
   "codemirror_mode": {
    "name": "ipython",
    "version": 3
   },
   "file_extension": ".py",
   "mimetype": "text/x-python",
   "name": "python",
   "nbconvert_exporter": "python",
   "pygments_lexer": "ipython3",
   "version": "3.6.8"
  }
 },
 "nbformat": 4,
 "nbformat_minor": 2
}
